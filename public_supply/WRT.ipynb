{
 "cells": [
  {
   "cell_type": "code",
   "execution_count": 82,
   "metadata": {
    "collapsed": false
   },
   "outputs": [],
   "source": [
    "import pandas as pd\n",
    "import feather\n",
    "from pyproj import Proj, transform\n",
    "import calendar as cldr\n",
    "from geopy.geocoders import Nominatim\n",
    "import itertools\n",
    "import addfips\n",
    "import zipcode\n",
    "import datetime\n",
    "import numpy as np\n",
    "\n",
    "pd.options.display.max_rows = 999\n",
    "pd.options.display.max_columns = 999"
   ]
  },
  {
   "cell_type": "markdown",
   "metadata": {},
   "source": [
    "### Importing feather datasets"
   ]
  },
  {
   "cell_type": "code",
   "execution_count": 83,
   "metadata": {
    "collapsed": false
   },
   "outputs": [],
   "source": [
    "# FL_df = feather.read_dataframe(\"feather_files\\FL_raw.feather\")\n",
    "# VA_df = feather.read_dataframe(\"feather_files\\VA_raw.feather\")\n",
    "# PA_df = feather.read_dataframe(\"feather_files\\PA_raw.feather\")\n",
    "# OR_df = feather.read_dataframe(\"feather_files\\OR_raw.feather\")\n",
    "# OR_loc_df = feather.read_dataframe(\"feather_files\\OR_locations_raw.feather\")\n",
    "# NJ_df = feather.read_dataframe(r\"feather_files\\NJ_raw.feather\")\n",
    "# NJ_loc_df = feather.read_dataframe(r\"feather_files\\NJ_locations_raw.feather\")\n",
    "# MD_df = feather.read_dataframe(\"feather_files\\MD_raw.feather\")\n",
    "# ID_df = feather.read_dataframe(\"feather_files\\ID_raw.feather\")"
   ]
  },
  {
   "cell_type": "markdown",
   "metadata": {},
   "source": [
    "## PA, VA, & FL\n",
    "\n",
    "### Scott Worland compiled the water-use data for PA, VA, and FL into the imported csv file. "
   ]
  },
  {
   "cell_type": "code",
   "execution_count": 84,
   "metadata": {
    "collapsed": true
   },
   "outputs": [],
   "source": [
    "## PA, VA, and FL Datasets already compiled by Scott Worland\n",
    "# PA_VA_FL_df = pd.read_csv(\"PA_VA_FL\\public_supply_data_pa_va_fl.csv\")"
   ]
  },
  {
   "cell_type": "code",
   "execution_count": 85,
   "metadata": {
    "collapsed": false
   },
   "outputs": [],
   "source": [
    "# PA_VA_FL_df[\"uid\"] = PA_VA_FL_df[\"uid\"].astype(\"str\")"
   ]
  },
  {
   "cell_type": "code",
   "execution_count": 86,
   "metadata": {
    "collapsed": true
   },
   "outputs": [],
   "source": [
    "# PVF_df = PA_VA_FL_df.rename(columns={'mgd':'Mg'})\n",
    "\n",
    "# FL_df = PVF_df[:].query('state == \"FL\"')\n",
    "# VA_df = PVF_df[:].query('state == \"VA\"')\n",
    "# PA_df = PVF_df[:].query('state == \"PA\"')\n",
    "\n",
    "# feather.write_dataframe(FL_df,\"feather_files\\FL_raw.feather\")\n",
    "# feather.write_dataframe(VA_df,\"feather_files\\VA_raw.feather\")\n",
    "# feather.write_dataframe(PA_df,\"feather_files\\PA_raw.feather\")"
   ]
  },
  {
   "cell_type": "markdown",
   "metadata": {},
   "source": [
    "## FL"
   ]
  },
  {
   "cell_type": "code",
   "execution_count": 87,
   "metadata": {
    "collapsed": false
   },
   "outputs": [],
   "source": [
    "FL_df = feather.read_dataframe(\"feather_files\\FL_raw.feather\")\n",
    "\n",
    "FL_df['month'] = FL_df[\"month\"].astype(\"float\")\n",
    "\n",
    "FL_df['date'] = \"\"\n",
    "FL_df[\"Mgd\"]=\"\"\n",
    "\n",
    "FL_df['month'] = FL_df[\"month\"].astype(\"int\")\n",
    "\n",
    "FL_df['date'] = FL_df.apply(lambda x: pd.datetime.strptime(\"{0} {1}\".format(x['month'],x['year']), \"%m %Y\"),axis=1)\n",
    "\n",
    "FL_df.set_index(\"date\",inplace=True)\n",
    "\n",
    "FL_df.rename(columns={'uid': 'id'}, inplace=True)\n",
    "\n",
    "FL_agg=FL_df.groupby(by='id').resample('1AS').sum()\n",
    "\n",
    "FL_agg.drop(['year','month','lat','lon'], inplace=True, axis=1)\n",
    "\n",
    "FL_agg[\"Mgd\"] = FL_agg[\"Mg\"]/FL_agg[\"days\"]\n",
    "\n",
    "FL_agg['State']=\"FL\"\n",
    "\n",
    "FL_agg.reset_index(level=1, inplace=True)\n",
    "\n",
    "FL_xy = FL_df[[\"id\",\"lon\",\"lat\"]]\n",
    "FL_xy.columns=['id','X_WGS','Y_WGS']\n",
    "FL_xy.set_index('id',inplace=True)\n",
    "\n",
    "FL_agg=FL_agg.join(FL_xy, how='inner')\n",
    "\n",
    "FL_agg.reset_index(inplace=True)\n",
    "\n",
    "FL_agg = FL_agg.groupby(['id','date']).first()\n",
    "\n",
    "FL_agg.reset_index(inplace=True)\n",
    "\n",
    "FL_agg.drop('days',1,inplace=True)\n",
    "\n",
    "feather.write_dataframe(FL_agg,\"feather_files\\FL_agg.feather\")"
   ]
  },
  {
   "cell_type": "markdown",
   "metadata": {},
   "source": [
    "## VA"
   ]
  },
  {
   "cell_type": "code",
   "execution_count": 88,
   "metadata": {
    "collapsed": false
   },
   "outputs": [],
   "source": [
    "VA_df = feather.read_dataframe(\"feather_files\\VA_raw.feather\")\n",
    "\n",
    "VA_df['date'] = \"\"\n",
    "VA_df[\"Mgd\"]=\"\"\n",
    "VA_df[\"days\"]=\"\"\n",
    "\n",
    "VA_df['date'] = VA_df.apply(lambda x: pd.datetime.strptime(\"{0}\".format(x['year']), \"%Y\"),axis=1)\n",
    "\n",
    "VA_df['days']=VA_df.apply(lambda row: cldr.monthrange(row[\"year\"],1)[1]\n",
    "                         +cldr.monthrange(row[\"year\"],2)[1]\n",
    "                          +cldr.monthrange(row[\"year\"],3)[1]\n",
    "                          +cldr.monthrange(row[\"year\"],4)[1]\n",
    "                          +cldr.monthrange(row[\"year\"],5)[1]\n",
    "                          +cldr.monthrange(row[\"year\"],6)[1]\n",
    "                          +cldr.monthrange(row[\"year\"],7)[1]\n",
    "                          +cldr.monthrange(row[\"year\"],8)[1]\n",
    "                          +cldr.monthrange(row[\"year\"],9)[1]\n",
    "                          +cldr.monthrange(row[\"year\"],10)[1]\n",
    "                          +cldr.monthrange(row[\"year\"],11)[1]\n",
    "                          +cldr.monthrange(row[\"year\"],12)[1],axis=1)\n",
    "\n",
    "VA_df.set_index(\"date\",inplace=True)\n",
    "\n",
    "VA_df.rename(columns={'uid': 'id'}, inplace=True)\n",
    "\n",
    "VA_agg=VA_df.groupby(by='id').resample('1AS').sum()\n",
    "\n",
    "VA_agg.drop(['year','month','lat','lon'], inplace=True, axis=1)\n",
    "\n",
    "VA_agg[\"Mgd\"] = VA_agg[\"Mg\"]/VA_agg[\"days\"]\n",
    "\n",
    "VA_agg['State']=\"VA\"\n",
    "\n",
    "VA_agg.reset_index(level=1, inplace=True)\n",
    "\n",
    "VA_xy = VA_df[[\"id\",\"lon\",\"lat\"]]\n",
    "VA_xy.columns=['id','X_WGS','Y_WGS']\n",
    "VA_xy.set_index('id',inplace=True)\n",
    "\n",
    "VA_agg=VA_agg.join(VA_xy, how='inner')\n",
    "\n",
    "VA_agg.reset_index(inplace=True)\n",
    "\n",
    "VA_agg = VA_agg.groupby(['id','date']).first()\n",
    "\n",
    "VA_agg.reset_index(inplace=True)\n",
    "\n",
    "VA_agg.drop('days',1,inplace=True)\n",
    "\n",
    "feather.write_dataframe(VA_agg,\"feather_files\\VA_agg.feather\")"
   ]
  },
  {
   "cell_type": "markdown",
   "metadata": {},
   "source": [
    "## PA"
   ]
  },
  {
   "cell_type": "code",
   "execution_count": 89,
   "metadata": {
    "collapsed": false
   },
   "outputs": [],
   "source": [
    "PA_df = feather.read_dataframe(\"feather_files\\PA_raw.feather\")\n",
    "\n",
    "PA_df['month'] = PA_df[\"month\"].astype(\"float\")\n",
    "\n",
    "PA_df['date'] = \"\"\n",
    "PA_df[\"Mgd\"]=\"\"\n",
    "\n",
    "PA_df['month'] = PA_df[\"month\"].astype(\"int\")\n",
    "\n",
    "PA_df['date'] = PA_df.apply(lambda x: pd.datetime.strptime(\"{0} {1}\".format(x['month'],x['year']), \"%m %Y\"),axis=1)\n",
    "\n",
    "PA_df.set_index(\"date\",inplace=True)\n",
    "\n",
    "PA_df.rename(columns={'uid': 'id'}, inplace=True)\n",
    "\n",
    "PA_agg=PA_df.groupby(by='id').resample('1AS').sum()\n",
    "\n",
    "PA_agg.drop(['year','month','lat','lon'], inplace=True, axis=1)\n",
    "\n",
    "PA_agg[\"Mgd\"] = PA_agg[\"Mg\"]/PA_agg[\"days\"]\n",
    "\n",
    "PA_agg['State']=\"PA\"\n",
    "\n",
    "PA_agg.reset_index(level=1, inplace=True)\n",
    "\n",
    "PA_xy = PA_df[[\"id\",\"lon\",\"lat\"]]\n",
    "PA_xy.columns=['id','X_WGS','Y_WGS']\n",
    "PA_xy.set_index('id',inplace=True)\n",
    "\n",
    "PA_agg=PA_agg.join(PA_xy, how='inner')\n",
    "\n",
    "PA_agg.reset_index(inplace=True)\n",
    "\n",
    "PA_agg = PA_agg.groupby(['id','date']).first()\n",
    "\n",
    "PA_agg.reset_index(inplace=True)\n",
    "\n",
    "PA_agg.drop('days',1,inplace=True)\n",
    "\n",
    "feather.write_dataframe(PA_agg,\"feather_files\\PA_agg.feather\")"
   ]
  },
  {
   "cell_type": "markdown",
   "metadata": {},
   "source": [
    "## OR"
   ]
  },
  {
   "cell_type": "code",
   "execution_count": 90,
   "metadata": {
    "collapsed": false,
    "scrolled": true
   },
   "outputs": [],
   "source": [
    "# # Quantity\n",
    "# OR_df = pd.read_excel(\"OR\\OWRD_PS_water_use.xlsx\")\n",
    "\n",
    "# # Location\n",
    "# OR_loc_df = pd.read_excel(r\"OR\\OR_locations_merged.xlsx\")\n",
    "\n",
    "# feather.write_dataframe(OR_df,\"feather_files\\OR_raw.feather\")\n",
    "# feather.write_dataframe(OR_loc_df,\"feather_files\\OR_locations_raw.feather\")"
   ]
  },
  {
   "cell_type": "code",
   "execution_count": 91,
   "metadata": {
    "collapsed": false
   },
   "outputs": [],
   "source": [
    "OR_df = feather.read_dataframe('feather_files\\OR_raw.feather')\n",
    "OR_loc_df = feather.read_dataframe('feather_files\\OR_locations_raw.feather')\n",
    "\n",
    "OR_df['month']=\"\"\n",
    "OR_df['year']=\"\"\n",
    "OR_df['date'] = \"\"\n",
    "OR_df['days'] = \"\"\n",
    "OR_df[\"Mgd\"]=\"\"\n",
    "OR_df[\"Mg\"]=\"\"\n",
    "\n",
    "def wtr_month_to_month(row):\n",
    "    if row['water_month'] >3:\n",
    "        return row['water_month']-3\n",
    "    else:\n",
    "        return row['water_month'] + 9\n",
    "    \n",
    "def wtr_yr_to_yr(row):\n",
    "    if row['water_month'] <4:\n",
    "        return row['water_year']-1\n",
    "    else:\n",
    "        return row['water_year']\n",
    "\n",
    "OR_df.month = OR_df.apply(lambda row: wtr_month_to_month(row), axis=1)\n",
    "\n",
    "OR_df.year = OR_df.apply(lambda row: wtr_yr_to_yr(row), axis=1)\n",
    "\n",
    "OR_df['date'] = OR_df.apply(lambda x: pd.datetime.strptime(\"{0} {1}\".format(x['month'],x['year']), \"%m %Y\"),axis=1)\n",
    "\n",
    "OR_df[\"days\"] = OR_df.apply(lambda row: cldr.monthrange(row[\"year\"],row[\"month\"])[1],axis=1)\n",
    "\n",
    "OR_df.set_index(\"date\",inplace=True)\n",
    "\n",
    "OR_agg=OR_df.resample('1AS').sum()\n",
    "\n",
    "OR_agg=OR_df.groupby(by='wur_report_id').resample('1AS').sum()\n",
    "OR_agg[\"Mg\"] = OR_agg[\"water_used (acre feet)\"]*325851/1000000\n",
    "OR_agg[\"Mgd\"] = OR_agg[\"Mg\"]/OR_agg[\"days\"]\n",
    "\n",
    "OR_agg.drop(['month','year','water_month','water_year','wur_report_id','water_used (acre feet)'],1,inplace=True)\n",
    "\n",
    "OR_agg['State']=\"OR\"\n",
    "\n",
    "OR_agg.index.names=['id','date']\n",
    "\n",
    "OR_loc_df = OR_loc_df.rename(columns={'wur_report_id':'id'})\n",
    "\n",
    "OR_loc_df = OR_loc_df[['id','X_WGS','Y_WGS']]\n",
    "\n",
    "OR_agg.reset_index(inplace=True)\n",
    "\n",
    "OR_loc_df.reset_index(inplace=True)\n",
    "\n",
    "OR_agg = OR_agg.merge(OR_loc_df, on='id')\n",
    "\n",
    "OR_agg.drop(['index','days'],1,inplace=True)\n",
    "\n",
    "feather.write_dataframe(OR_agg,\"feather_files\\OR_agg.feather\")"
   ]
  },
  {
   "cell_type": "markdown",
   "metadata": {},
   "source": [
    "## NJ"
   ]
  },
  {
   "cell_type": "code",
   "execution_count": 92,
   "metadata": {
    "collapsed": false
   },
   "outputs": [],
   "source": [
    "# # Quantity\n",
    "# NJ_df = pd.read_excel(\"NJ\\Withdrawals by HUC.xlsx\")\n",
    "\n",
    "# # Location\n",
    "# NJ_loc_df = pd.read_excel(r\"NJ\\NJ_PS_location_data.xlsx\")\n",
    "\n",
    "# feather.write_dataframe(NJ_df,r\"feather_files\\NJ_raw.feather\")\n",
    "# feather.write_dataframe(NJ_loc_df,r\"feather_files\\NJ_locations_raw.feather\")"
   ]
  },
  {
   "cell_type": "code",
   "execution_count": 93,
   "metadata": {
    "collapsed": false
   },
   "outputs": [],
   "source": [
    "NJ_df = feather.read_dataframe(r\"feather_files\\NJ_raw.feather\")\n",
    "NJ_loc_df = feather.read_dataframe(r\"feather_files\\NJ_locations_raw.feather\")\n",
    "\n",
    "NJ_df['month']=\"\"\n",
    "NJ_df['year']=\"\"\n",
    "NJ_df['date'] = \"\"\n",
    "NJ_df['days'] = \"\"\n",
    "NJ_df[\"Mgd\"]=\"\"\n",
    "\n",
    "NJ_df['date'] = NJ_df.apply(lambda x: pd.datetime.strptime(\"{0} {1}\".format(x['Month'],x['Year']), \"%m %Y\"),axis=1)\n",
    "\n",
    "NJ_df[\"days\"] = NJ_df.apply(lambda row: cldr.monthrange(row[\"Year\"],row[\"Month\"])[1],axis=1)\n",
    "\n",
    "\n",
    "\n",
    "NJ_df.set_index('date', inplace=True)\n",
    "\n",
    "NJ_agg=NJ_df.resample('1AS').sum()\n",
    "\n",
    "NJ_agg=NJ_df.groupby(by='SiteName').resample('1AS').sum()\n",
    "\n",
    "NJ_agg[\"Mgd\"] = NJ_agg[\"WithdrawalMG\"]/NJ_agg[\"days\"]\n",
    "\n",
    "NJ_agg.drop(['Month','Year','HUC14','days'],1,inplace=True)\n",
    "\n",
    "NJ_agg['State']=\"NJ\"\n",
    "\n",
    "NJ_agg.index.names=['id','date']\n",
    "\n",
    "NJ_agg.columns=[['Mg', 'Mgd', 'State']]\n",
    "\n",
    "#NJ\n",
    "outProj = Proj(proj='latlong', datum='WGS84', ellps='WGS84')\n",
    "NJinProj = Proj(init='epsg:6527', preserve_units=True)\n",
    "x,y = NJ_loc_df[\"NJEasting\"].values,NJ_loc_df[\"NJNorthing\"].values\n",
    "NJ_loc_df[\"X_WGS\"],NJ_loc_df[\"Y_WGS\"] = transform(NJinProj,outProj,x,y)\n",
    "\n",
    "NJ_xy = NJ_loc_df[[\"SiteName\",\"X_WGS\",\"Y_WGS\"]]\n",
    "NJ_xy.columns=['id','X_WGS','Y_WGS']\n",
    "NJ_xy.set_index('id',inplace=True)\n",
    "\n",
    "NJ_agg=NJ_agg.join(NJ_xy, how='inner')\n",
    "\n",
    "NJ_agg.reset_index(inplace=True)\n",
    "\n",
    "feather.write_dataframe(NJ_agg,r\"feather_files\\NJ_agg.feather\")"
   ]
  },
  {
   "cell_type": "markdown",
   "metadata": {},
   "source": [
    "## MD"
   ]
  },
  {
   "cell_type": "code",
   "execution_count": 94,
   "metadata": {
    "collapsed": true
   },
   "outputs": [],
   "source": [
    "# ## Quantity & location\n",
    "# MD_df = pd.read_excel(\"MD\\ScottWorland-Allsites-monthly-withdrawals-Maryland.xlsx\")\n",
    "\n",
    "# feather.write_dataframe(MD_df,r\"feather_files\\MD_raw.feather\")"
   ]
  },
  {
   "cell_type": "code",
   "execution_count": 95,
   "metadata": {
    "collapsed": false
   },
   "outputs": [],
   "source": [
    "MD_df = feather.read_dataframe(r\"feather_files\\MD_raw.feather\")\n",
    "\n",
    "MD_df['Mg']=\"\"\n",
    "MD_df['Mg'] = MD_df.apply(lambda row: row['January Value']*cldr.monthrange(row[\"Year\"],1)[1]\n",
    "            +row['February Value']*cldr.monthrange(row[\"Year\"],2)[1]\n",
    "            +row['March Value']*cldr.monthrange(row[\"Year\"],3)[1]\n",
    "            +row['April Value']*cldr.monthrange(row[\"Year\"],4)[1]\n",
    "            +row['May Value']*cldr.monthrange(row[\"Year\"],5)[1]\n",
    "            +row['June Value']*cldr.monthrange(row[\"Year\"],6)[1]\n",
    "            +row['July Value']*cldr.monthrange(row[\"Year\"],7)[1]\n",
    "            +row['August Value']*cldr.monthrange(row[\"Year\"],8)[1]\n",
    "            +row['September Value']*cldr.monthrange(row[\"Year\"],9)[1]\n",
    "            +row['October Value']*cldr.monthrange(row[\"Year\"],10)[1]\n",
    "            +row['November Value']*cldr.monthrange(row[\"Year\"],11)[1]\n",
    "            +row['December Value']*cldr.monthrange(row[\"Year\"],12)[1],axis=1)\n",
    "\n",
    "MD_df['date'] = \"\"\n",
    "\n",
    "MD_df['date'] = MD_df.apply(lambda x: pd.datetime.strptime(\"{0}\".format(x['Year']), \"%Y\"),axis=1)\n",
    "\n",
    "MD_df.set_index(\"date\",inplace=True)\n",
    "\n",
    "MD_df.rename(columns={'From Decimal Latitude': 'Y_WGS', 'From Decimal Longitude': 'X_WGS', 'Annual Value': 'Mgd','From Site Number': 'id'}, inplace=True)\n",
    "\n",
    "MD_agg=MD_df.groupby(by='id').resample('1AS').sum()\n",
    "\n",
    "MD_agg = MD_agg[['Y_WGS', 'X_WGS', 'Mgd','Mg']]\n",
    "\n",
    "MD_agg['State']=\"MD\"\n",
    "\n",
    "MD_agg.reset_index(inplace=True)\n",
    "\n",
    "feather.write_dataframe(MD_agg,r\"feather_files\\MD_agg.feather\")"
   ]
  },
  {
   "cell_type": "markdown",
   "metadata": {},
   "source": [
    "## ID"
   ]
  },
  {
   "cell_type": "code",
   "execution_count": 96,
   "metadata": {
    "collapsed": false
   },
   "outputs": [],
   "source": [
    "# ID_df = pd.read_excel(\"ID\\Idaho-monthly-SWUDS-data.xlsx\")\n",
    "# ID_df[\"FROM_COORD_ACY_CD\"] = ID_df[\"FROM_COORD_ACY_CD\"].astype(\"str\")\n",
    "# ID_df[\"FROM_ALT_VA\"] = ID_df[\"FROM_ALT_VA\"].astype(\"str\")\n",
    "# ID_df[\"FROM_ALT_ACY_VA\"] = ID_df[\"FROM_ALT_ACY_VA\"].astype(\"str\")\n",
    "\n",
    "# feather.write_dataframe(ID_df,r\"feather_files\\ID_raw.feather\")"
   ]
  },
  {
   "cell_type": "code",
   "execution_count": 97,
   "metadata": {
    "collapsed": false
   },
   "outputs": [],
   "source": [
    "ID_df = feather.read_dataframe(r\"feather_files\\ID_raw.feather\")\n",
    "\n",
    "ID_df['Mg']=\"\"\n",
    "ID_df['Mgd']=\"\"\n",
    "ID_df['Mg'] = ID_df.apply(lambda row: row['JAN_VAL']*cldr.monthrange(row[\"YEAR\"],1)[1]\n",
    "            +row['FEB_VAL']*cldr.monthrange(row[\"YEAR\"],2)[1]\n",
    "            +row['MAR_VAL']*cldr.monthrange(row[\"YEAR\"],3)[1]\n",
    "            +row['APR_VAL']*cldr.monthrange(row[\"YEAR\"],4)[1]\n",
    "            +row['MAY_VAL']*cldr.monthrange(row[\"YEAR\"],5)[1]\n",
    "            +row['JUN_VAL']*cldr.monthrange(row[\"YEAR\"],6)[1]\n",
    "            +row['JUL_VAL']*cldr.monthrange(row[\"YEAR\"],7)[1]\n",
    "            +row['AUG_VAL']*cldr.monthrange(row[\"YEAR\"],8)[1]\n",
    "            +row['SEP_VAL']*cldr.monthrange(row[\"YEAR\"],9)[1]\n",
    "            +row['OCT_VAL']*cldr.monthrange(row[\"YEAR\"],10)[1]\n",
    "            +row['NOV_VAL']*cldr.monthrange(row[\"YEAR\"],11)[1]\n",
    "            +row['DEC_VAL']*cldr.monthrange(row[\"YEAR\"],12)[1], axis=1)\n",
    "\n",
    "ID_df['date'] = \"\"\n",
    "\n",
    "ID_df['Mgd']=ID_df['Mg']/ID_df.apply(lambda row: cldr.monthrange(row[\"YEAR\"],1)[1]\n",
    "            +cldr.monthrange(row[\"YEAR\"],2)[1]\n",
    "            +cldr.monthrange(row[\"YEAR\"],3)[1]\n",
    "            +cldr.monthrange(row[\"YEAR\"],4)[1]\n",
    "            +cldr.monthrange(row[\"YEAR\"],5)[1]\n",
    "            +cldr.monthrange(row[\"YEAR\"],6)[1]\n",
    "            +cldr.monthrange(row[\"YEAR\"],7)[1]\n",
    "            +cldr.monthrange(row[\"YEAR\"],8)[1]\n",
    "            +cldr.monthrange(row[\"YEAR\"],9)[1]\n",
    "            +cldr.monthrange(row[\"YEAR\"],10)[1]\n",
    "            +cldr.monthrange(row[\"YEAR\"],11)[1]\n",
    "            +cldr.monthrange(row[\"YEAR\"],12)[1],axis=1)\n",
    "\n",
    "ID_df['date'] = ID_df.apply(lambda x: pd.datetime.strptime(\"{0}\".format(x['YEAR']), \"%Y\"),axis=1)\n",
    "\n",
    "ID_df.set_index(\"date\",inplace=True)\n",
    "\n",
    "ID_df.rename(columns={'FROM_DEC_LAT_VA': 'Y_WGS', 'FROM_DEC_LONG_VA': 'X_WGS','SITE_NO': 'id'}, inplace=True)\n",
    "\n",
    "ID_agg=ID_df[['Mgd','Mg','id']].groupby(by='id').resample('1AS').sum()\n",
    "\n",
    "ID_agg.drop('id',1, inplace=True)\n",
    "\n",
    "ID_agg['State']=\"ID\"\n",
    "\n",
    "ID_df.reset_index(inplace=True)\n",
    "ID_xy = ID_df[['Y_WGS', 'X_WGS','id','date']].groupby(['id','date']).first()\n",
    "\n",
    "ID_agg = ID_agg.join(ID_xy, how='inner')\n",
    "\n",
    "ID_agg.reset_index(inplace=True)\n",
    "\n",
    "feather.write_dataframe(ID_agg,r\"feather_files\\ID_agg.feather\")"
   ]
  },
  {
   "cell_type": "markdown",
   "metadata": {},
   "source": [
    "## Appending All States"
   ]
  },
  {
   "cell_type": "code",
   "execution_count": 98,
   "metadata": {
    "collapsed": false
   },
   "outputs": [],
   "source": [
    "WU_app = OR_agg\n",
    "WU_app = WU_app.append([PA_agg, VA_agg, FL_agg, ID_agg, MD_agg, NJ_agg])\n",
    "WU_app['id'] = WU_app['id'].astype(\"str\")\n",
    "feather.write_dataframe(WU_app,r\"feather_files\\WaterUse_aggregated.feather\")"
   ]
  },
  {
   "cell_type": "code",
   "execution_count": 107,
   "metadata": {
    "collapsed": true
   },
   "outputs": [],
   "source": [
    "WU_app =feather.read_dataframe(r\"feather_files\\WaterUse_aggregated.feather\")"
   ]
  }
 ],
 "metadata": {
  "anaconda-cloud": {},
  "kernelspec": {
   "display_name": "Python [py35]",
   "language": "python",
   "name": "Python [py35]"
  },
  "language_info": {
   "codemirror_mode": {
    "name": "ipython",
    "version": 3
   },
   "file_extension": ".py",
   "mimetype": "text/x-python",
   "name": "python",
   "nbconvert_exporter": "python",
   "pygments_lexer": "ipython3",
   "version": "3.5.2"
  }
 },
 "nbformat": 4,
 "nbformat_minor": 0
}
